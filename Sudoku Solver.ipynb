{
 "cells": [
  {
   "cell_type": "code",
   "execution_count": 2,
   "metadata": {},
   "outputs": [],
   "source": [
    "import numpy as np\n",
    "import pandas as pd"
   ]
  },
  {
   "cell_type": "code",
   "execution_count": 2,
   "metadata": {},
   "outputs": [],
   "source": [
    "def check_row(n,i,X):\n",
    "    if n in X[i]:\n",
    "        #print ('{} is not a valid entry'.format(n))\n",
    "        return False\n",
    "    else:\n",
    "        return True\n",
    "    \n",
    "def check_column(n,j,X):\n",
    "    if n in X[:,j]:\n",
    "        #print ('{} is not a valid entry'.format(n))\n",
    "        return False\n",
    "    else:\n",
    "        return True\n",
    "    \n",
    "def BOX(X):\n",
    "    return np.array([[X[3*i:3*(i+1), 3*j:3*(j+1)] for j in range(3)] for i in range(3)])\n",
    "    \n",
    "def check_box(n,i,j,X):\n",
    "    if n in BOX(X)[int(i/3)][int(j/3)]:\n",
    "        #print ('{} is not a valid entry'.format(n))\n",
    "        return False\n",
    "    else:\n",
    "        return True\n",
    "    \n",
    "def check_position(n,i,j,X):\n",
    "    if n in range(1,10):\n",
    "        return check_row(n,i,X) and check_column(n,j,X) and check_box(n,i,j,X)\n",
    "    else:\n",
    "        return False\n",
    "\n",
    "def update(n,i,j,Y):\n",
    "    X=Y.copy()\n",
    "    if np.isnan(X[i][j])==False:\n",
    "        print('entry not successful')\n",
    "        return X\n",
    "    elif n not in list(range(1,10)):\n",
    "        #print ('{} is not a valid entry'.format(n))\n",
    "        return X\n",
    "    elif check_position(n,i,j,X):\n",
    "        X[i][j]=n\n",
    "        return X\n",
    "    else:\n",
    "        return X"
   ]
  },
  {
   "cell_type": "code",
   "execution_count": 3,
   "metadata": {},
   "outputs": [],
   "source": [
    "def possible_entries(i,j,X):\n",
    "    e=[]\n",
    "    if np.isnan(X)[i,j]== False:\n",
    "        return []\n",
    "    else:\n",
    "        for n in range(1,10):\n",
    "            if check_position(n,i,j,X):\n",
    "                e.append(n)\n",
    "        return e"
   ]
  },
  {
   "cell_type": "code",
   "execution_count": 4,
   "metadata": {},
   "outputs": [],
   "source": [
    "def initial_entries(Y):\n",
    "    X=Y.copy()\n",
    "    p_e=[[possible_entries(i,j,X) for j in range(9)] for i in range(9)]\n",
    "    a=81\n",
    "    m=0\n",
    "    while np.isnan(X).sum() != a:\n",
    "        a=np.isnan(X).sum()\n",
    "        for i in range(9):\n",
    "            for j in range(9):\n",
    "                if len(p_e[i][j])==1:\n",
    "                    X=update(p_e[i][j][0],i,j,X)\n",
    "                    print('{} put in row: {}, column: {}'.format(p_e[i][j][0],i,j))\n",
    "        m+=1\n",
    "        print('{} iteration done'.format(m))\n",
    "        p_e= [[possible_entries(i,j,X) for j in range(9)] for i in range(9)]\n",
    "    return X"
   ]
  },
  {
   "cell_type": "code",
   "execution_count": 5,
   "metadata": {},
   "outputs": [],
   "source": [
    "def index_of_column(n,j,X):\n",
    "    \"\"\"\n",
    "    gives a list of indexes on column j where number n can sit\n",
    "    \"\"\"\n",
    "    a=[]\n",
    "    for i in range(9):\n",
    "        if np.isnan(X)[i,j]:\n",
    "            if n not in X[i]:\n",
    "                if n not in BOX(X)[int(i/3)][int(j/3)].flatten():\n",
    "                    a.append(i)\n",
    "    return a\n",
    "\n",
    "def index_of_row(n,i,X):\n",
    "    \"\"\"\n",
    "    gives list of indexes on row i where number n can sit\n",
    "    \"\"\"\n",
    "    a=[]\n",
    "    for j in range(9):\n",
    "        if np.isnan(X)[i,j]:\n",
    "            if n not in X[:,j]:\n",
    "                if n not in BOX(X)[int(i/3)][int(j/3)]:\n",
    "                    a.append(j)\n",
    "    return a        \n",
    "\n",
    "def index_of_box(n,i,j,X):\n",
    "    \"\"\"\n",
    "    gives list of indexes on ith row, jth column box where number n can sit\n",
    "    \"\"\"\n",
    "    a=[]\n",
    "    box_row= int(i/3)\n",
    "    box_column= int(j/3)\n",
    "    box=BOX(X)[box_row][box_column].flatten()\n",
    "    for k in range(len(box)):\n",
    "        if np.isnan(X)[i,j]:\n",
    "            if n not in X[i]:\n",
    "                if n not in X[:,j]:\n",
    "                    a.append([3*box_row+int(k/3),3*box_column+k%3])\n",
    "    return a "
   ]
  },
  {
   "cell_type": "code",
   "execution_count": 6,
   "metadata": {},
   "outputs": [],
   "source": [
    "def half_solution(Y):\n",
    "    X=Y.copy()\n",
    "    a=81\n",
    "    m=0\n",
    "    while a != np.isnan(X).sum():\n",
    "        a=np.isnan(X).sum()\n",
    "        for n in range(1,10):\n",
    "            for j in range(9):\n",
    "                if len(index_of_column(n,j,X))==1:\n",
    "                    X=update(n, index_of_column(n,j,X)[0], j, X)\n",
    "        for n in range(1,10):\n",
    "            for i in range(9):\n",
    "                if len(index_of_row(n,i,X))==1:\n",
    "                    X=update(n, i, index_of_row(n,i,X)[0], X)\n",
    "                    \n",
    "        for n in range(1,10):\n",
    "            for i in range(9):\n",
    "                for j in range(9):\n",
    "                    if len(index_of_box(n,i,j,X))==1:\n",
    "                        l=index_of_box(n,i,j,X)[0]\n",
    "                        X= update(n,l[0],l[1] ,X)\n",
    "        print('iteration {} done. Remaining missing values: {} '.format(m+1, np.isnan(X).sum()))\n",
    "        m+=1\n",
    "    return X\n",
    "        "
   ]
  },
  {
   "cell_type": "code",
   "execution_count": 7,
   "metadata": {},
   "outputs": [],
   "source": [
    "def rec_sol(Y):\n",
    "    a=81\n",
    "    n1=0\n",
    "    X=Y.copy()\n",
    "    while a != np.isnan(X).sum():\n",
    "        a=np.isnan(X).sum()\n",
    "        X=initial_entries(X)\n",
    "        X=half_solution(X)\n",
    "        n1 +=1\n",
    "        print('after {} sets of recurrsion missing value left: {}'.format(n1,np.isnan(X).sum()))\n",
    "        \n",
    "    return X"
   ]
  },
  {
   "cell_type": "code",
   "execution_count": 43,
   "metadata": {},
   "outputs": [
    {
     "name": "stdout",
     "output_type": "stream",
     "text": [
      "1 iteration done\n",
      "iteration 1 done. Remaining missing values: 54 \n",
      "iteration 2 done. Remaining missing values: 54 \n",
      "after 1 sets of recurrsion missing value left: 54\n",
      "1 put in row: 4, column: 8\n",
      "1 iteration done\n",
      "2 iteration done\n",
      "iteration 1 done. Remaining missing values: 53 \n",
      "after 2 sets of recurrsion missing value left: 53\n",
      "1 iteration done\n",
      "iteration 1 done. Remaining missing values: 53 \n",
      "after 3 sets of recurrsion missing value left: 53\n"
     ]
    },
    {
     "data": {
      "text/plain": [
       "array([[nan, nan, nan,  7., nan, nan,  5.,  6.,  4.],\n",
       "       [ 4., nan, nan, nan, nan, nan, nan, nan, nan],\n",
       "       [nan,  6., nan, nan,  4.,  1., nan,  8., nan],\n",
       "       [nan,  2.,  4., nan, nan, nan, nan, nan,  6.],\n",
       "       [ 3., nan,  6., nan, nan, nan, nan,  7.,  1.],\n",
       "       [ 1., nan, nan, nan,  3., nan,  2., nan,  5.],\n",
       "       [nan, nan,  3., nan, nan, nan, nan, nan,  9.],\n",
       "       [nan, nan, nan,  9., nan,  5., nan, nan,  8.],\n",
       "       [nan,  7., nan, nan,  6., nan, nan,  5., nan]])"
      ]
     },
     "execution_count": 43,
     "metadata": {},
     "output_type": "execute_result"
    }
   ],
   "source": [
    "X=rec_sol(hard)\n",
    "X"
   ]
  },
  {
   "cell_type": "code",
   "execution_count": 36,
   "metadata": {},
   "outputs": [
    {
     "data": {
      "text/plain": [
       "array([[ 3,  4,  4, 11,  3,  4, 11, 11, 11],\n",
       "       [11,  5,  6,  5,  4,  5,  4,  4,  3],\n",
       "       [ 4, 11,  4,  3, 11, 11,  3, 11,  3],\n",
       "       [ 4, 11, 11,  3,  5,  3,  3,  2, 11],\n",
       "       [11,  3, 11,  4,  4,  4,  3, 11, 11],\n",
       "       [11,  2,  3,  3, 11,  5, 11,  2, 11],\n",
       "       [ 4,  4, 11,  4,  4,  4,  4,  3, 11],\n",
       "       [ 2,  2,  2, 11,  3, 11,  5,  4, 11],\n",
       "       [ 3, 11,  4,  5, 11,  4,  3, 11,  2]])"
      ]
     },
     "execution_count": 36,
     "metadata": {},
     "output_type": "execute_result"
    }
   ],
   "source": [
    "l=np.array([[len(possible_entries(i,j,X)) for j in range(9)] for i in range(9)])\n",
    "l[l==0]=11\n",
    "l"
   ]
  },
  {
   "cell_type": "code",
   "execution_count": 37,
   "metadata": {},
   "outputs": [],
   "source": [
    "k=l.flatten().argmin()"
   ]
  },
  {
   "cell_type": "code",
   "execution_count": 38,
   "metadata": {},
   "outputs": [
    {
     "name": "stdout",
     "output_type": "stream",
     "text": [
      "1 iteration done\n",
      "iteration 1 done. Remaining missing values: 53 \n",
      "after 1 sets of recurrsion missing value left: 53\n"
     ]
    },
    {
     "data": {
      "text/plain": [
       "[3, 9]"
      ]
     },
     "execution_count": 38,
     "metadata": {},
     "output_type": "execute_result"
    }
   ],
   "source": [
    "possible_entries(int(k/9),k%9,rec_sol(X))"
   ]
  },
  {
   "cell_type": "code",
   "execution_count": 39,
   "metadata": {},
   "outputs": [
    {
     "data": {
      "text/plain": [
       "[2, 8, 9]"
      ]
     },
     "execution_count": 39,
     "metadata": {},
     "output_type": "execute_result"
    }
   ],
   "source": [
    "possible_entries(0,4,X)"
   ]
  },
  {
   "cell_type": "code",
   "execution_count": 46,
   "metadata": {},
   "outputs": [],
   "source": [
    "def trial_or_error(Y, record=[]):\n",
    "    X= Y.copy()\n",
    "    #print('copy done')\n",
    "    a= (np.array([[len(possible_entries(i,j,X)) for j in range(9)] for i in range(9)])==0).sum()\n",
    "    b= np.isnan(X).sum()\n",
    "    X=rec_sol(X)\n",
    "    while (a != 81) :\n",
    "        #print('enter while loop')\n",
    "        lentry=np.array([[len(possible_entries(i,j,X)) for j in range(9)] for i in range(9)])\n",
    "        lentry[lentry==0]=11\n",
    "        #print(lentry)\n",
    "        k=lentry.flatten().argmin()\n",
    "        #print('k={}'.format(k))\n",
    "        p_e=possible_entries(int(k/9),k%9,X)\n",
    "        Z=list(X.copy())\n",
    "        X=update(p_e[0],int(k/9),k%9,X)\n",
    "        #print('update{},{},{}'.format(p_e[0],int(k/9),k%9))\n",
    "        X=rec_sol(X)\n",
    "        record.append([p_e[0],int(k/9),k%9,p_e,Z])\n",
    "        a= (np.array([[len(possible_entries(i,j,X)) for j in range(9)] for i in range(9)])==0).sum()\n",
    "        b= np.isnan(X).sum()\n",
    "        \n",
    "    if (b !=0):\n",
    "        return record\n",
    "    \n",
    "    elif b==0:\n",
    "        print('Final Solution is: ')\n",
    "        return X\n",
    "        "
   ]
  },
  {
   "cell_type": "code",
   "execution_count": 77,
   "metadata": {},
   "outputs": [
    {
     "name": "stdout",
     "output_type": "stream",
     "text": [
      "1 iteration done\n",
      "iteration 1 done. Remaining missing values: 71 \n",
      "after 1 sets of recurrsion missing value left: 71\n",
      "1 iteration done\n",
      "iteration 1 done. Remaining missing values: 70 \n",
      "after 1 sets of recurrsion missing value left: 70\n",
      "1 iteration done\n",
      "iteration 1 done. Remaining missing values: 69 \n",
      "after 1 sets of recurrsion missing value left: 69\n",
      "1 iteration done\n",
      "iteration 1 done. Remaining missing values: 68 \n",
      "after 1 sets of recurrsion missing value left: 68\n",
      "1 iteration done\n",
      "iteration 1 done. Remaining missing values: 67 \n",
      "after 1 sets of recurrsion missing value left: 67\n",
      "8 put in row: 5, column: 5\n",
      "1 iteration done\n",
      "2 iteration done\n",
      "iteration 1 done. Remaining missing values: 65 \n",
      "after 1 sets of recurrsion missing value left: 65\n",
      "1 iteration done\n",
      "iteration 1 done. Remaining missing values: 65 \n",
      "after 2 sets of recurrsion missing value left: 65\n",
      "1 iteration done\n",
      "iteration 1 done. Remaining missing values: 64 \n",
      "after 1 sets of recurrsion missing value left: 64\n",
      "1 iteration done\n",
      "iteration 1 done. Remaining missing values: 63 \n",
      "after 1 sets of recurrsion missing value left: 63\n",
      "1 iteration done\n",
      "iteration 1 done. Remaining missing values: 62 \n",
      "after 1 sets of recurrsion missing value left: 62\n",
      "1 iteration done\n",
      "iteration 1 done. Remaining missing values: 61 \n",
      "after 1 sets of recurrsion missing value left: 61\n",
      "8 put in row: 3, column: 2\n",
      "1 iteration done\n",
      "2 iteration done\n",
      "iteration 1 done. Remaining missing values: 59 \n",
      "after 1 sets of recurrsion missing value left: 59\n",
      "1 iteration done\n",
      "iteration 1 done. Remaining missing values: 59 \n",
      "after 2 sets of recurrsion missing value left: 59\n",
      "1 iteration done\n",
      "iteration 1 done. Remaining missing values: 58 \n",
      "after 1 sets of recurrsion missing value left: 58\n",
      "1 iteration done\n",
      "iteration 1 done. Remaining missing values: 57 \n",
      "after 1 sets of recurrsion missing value left: 57\n",
      "1 iteration done\n",
      "iteration 1 done. Remaining missing values: 55 \n",
      "iteration 2 done. Remaining missing values: 55 \n",
      "after 1 sets of recurrsion missing value left: 55\n",
      "1 iteration done\n",
      "iteration 1 done. Remaining missing values: 55 \n",
      "after 2 sets of recurrsion missing value left: 55\n",
      "9 put in row: 4, column: 5\n",
      "1 iteration done\n",
      "2 iteration done\n",
      "iteration 1 done. Remaining missing values: 53 \n",
      "after 1 sets of recurrsion missing value left: 53\n",
      "1 iteration done\n",
      "iteration 1 done. Remaining missing values: 53 \n",
      "after 2 sets of recurrsion missing value left: 53\n",
      "8 put in row: 4, column: 7\n",
      "1 iteration done\n",
      "2 iteration done\n",
      "iteration 1 done. Remaining missing values: 51 \n",
      "after 1 sets of recurrsion missing value left: 51\n",
      "1 iteration done\n",
      "iteration 1 done. Remaining missing values: 51 \n",
      "after 2 sets of recurrsion missing value left: 51\n",
      "1 iteration done\n",
      "iteration 1 done. Remaining missing values: 50 \n",
      "after 1 sets of recurrsion missing value left: 50\n",
      "9 put in row: 3, column: 8\n",
      "1 iteration done\n",
      "2 iteration done\n",
      "iteration 1 done. Remaining missing values: 48 \n",
      "after 1 sets of recurrsion missing value left: 48\n",
      "1 iteration done\n",
      "iteration 1 done. Remaining missing values: 48 \n",
      "after 2 sets of recurrsion missing value left: 48\n",
      "1 iteration done\n",
      "iteration 1 done. Remaining missing values: 44 \n",
      "iteration 2 done. Remaining missing values: 44 \n",
      "after 1 sets of recurrsion missing value left: 44\n",
      "1 iteration done\n",
      "iteration 1 done. Remaining missing values: 44 \n",
      "after 2 sets of recurrsion missing value left: 44\n",
      "1 iteration done\n",
      "iteration 1 done. Remaining missing values: 43 \n",
      "after 1 sets of recurrsion missing value left: 43\n",
      "1 iteration done\n",
      "iteration 1 done. Remaining missing values: 42 \n",
      "after 1 sets of recurrsion missing value left: 42\n",
      "1 iteration done\n",
      "iteration 1 done. Remaining missing values: 41 \n",
      "after 1 sets of recurrsion missing value left: 41\n",
      "7 put in row: 2, column: 2\n",
      "1 iteration done\n",
      "2 iteration done\n",
      "iteration 1 done. Remaining missing values: 38 \n",
      "iteration 2 done. Remaining missing values: 38 \n",
      "after 1 sets of recurrsion missing value left: 38\n",
      "1 iteration done\n",
      "iteration 1 done. Remaining missing values: 38 \n",
      "after 2 sets of recurrsion missing value left: 38\n",
      "1 iteration done\n",
      "iteration 1 done. Remaining missing values: 37 \n",
      "after 1 sets of recurrsion missing value left: 37\n",
      "1 iteration done\n",
      "iteration 1 done. Remaining missing values: 36 \n",
      "after 1 sets of recurrsion missing value left: 36\n",
      "9 put in row: 2, column: 1\n",
      "1 iteration done\n",
      "2 iteration done\n",
      "iteration 1 done. Remaining missing values: 34 \n",
      "after 1 sets of recurrsion missing value left: 34\n",
      "1 iteration done\n",
      "iteration 1 done. Remaining missing values: 34 \n",
      "after 2 sets of recurrsion missing value left: 34\n",
      "3 put in row: 1, column: 0\n",
      "1 iteration done\n",
      "2 iteration done\n",
      "iteration 1 done. Remaining missing values: 32 \n",
      "after 1 sets of recurrsion missing value left: 32\n",
      "1 iteration done\n",
      "iteration 1 done. Remaining missing values: 32 \n",
      "after 2 sets of recurrsion missing value left: 32\n",
      "1 iteration done\n",
      "iteration 1 done. Remaining missing values: 31 \n",
      "after 1 sets of recurrsion missing value left: 31\n",
      "4 put in row: 2, column: 3\n",
      "1 iteration done\n",
      "2 iteration done\n",
      "iteration 1 done. Remaining missing values: 29 \n",
      "after 1 sets of recurrsion missing value left: 29\n",
      "1 iteration done\n",
      "iteration 1 done. Remaining missing values: 29 \n",
      "after 2 sets of recurrsion missing value left: 29\n",
      "9 put in row: 0, column: 7\n",
      "1 iteration done\n",
      "7 put in row: 1, column: 6\n",
      "2 iteration done\n",
      "3 iteration done\n",
      "iteration 1 done. Remaining missing values: 21 \n",
      "iteration 2 done. Remaining missing values: 21 \n",
      "after 1 sets of recurrsion missing value left: 21\n",
      "1 iteration done\n",
      "iteration 1 done. Remaining missing values: 21 \n",
      "after 2 sets of recurrsion missing value left: 21\n",
      "1 iteration done\n",
      "iteration 1 done. Remaining missing values: 17 \n",
      "iteration 2 done. Remaining missing values: 17 \n",
      "after 1 sets of recurrsion missing value left: 17\n",
      "1 iteration done\n",
      "iteration 1 done. Remaining missing values: 17 \n",
      "after 2 sets of recurrsion missing value left: 17\n",
      "5 put in row: 1, column: 8\n",
      "1 iteration done\n",
      "4 put in row: 6, column: 8\n",
      "2 iteration done\n",
      "3 iteration done\n",
      "iteration 1 done. Remaining missing values: 14 \n",
      "after 1 sets of recurrsion missing value left: 14\n",
      "1 iteration done\n",
      "iteration 1 done. Remaining missing values: 14 \n",
      "after 2 sets of recurrsion missing value left: 14\n",
      "6 put in row: 2, column: 5\n",
      "1 iteration done\n",
      "5 put in row: 6, column: 5\n",
      "2 iteration done\n",
      "3 put in row: 6, column: 7\n",
      "3 iteration done\n",
      "6 put in row: 6, column: 4\n",
      "5 put in row: 7, column: 7\n",
      "4 iteration done\n",
      "3 put in row: 7, column: 4\n",
      "5 iteration done\n",
      "6 iteration done\n",
      "iteration 1 done. Remaining missing values: 6 \n",
      "iteration 2 done. Remaining missing values: 6 \n",
      "after 1 sets of recurrsion missing value left: 6\n",
      "1 iteration done\n",
      "iteration 1 done. Remaining missing values: 6 \n",
      "after 2 sets of recurrsion missing value left: 6\n",
      "9 put in row: 6, column: 6\n",
      "9 put in row: 7, column: 0\n",
      "1 iteration done\n",
      "8 put in row: 7, column: 3\n",
      "8 put in row: 8, column: 6\n",
      "2 iteration done\n",
      "9 put in row: 8, column: 3\n",
      "3 iteration done\n",
      "4 iteration done\n",
      "iteration 1 done. Remaining missing values: 0 \n",
      "after 1 sets of recurrsion missing value left: 0\n",
      "1 iteration done\n",
      "iteration 1 done. Remaining missing values: 0 \n",
      "after 2 sets of recurrsion missing value left: 0\n",
      "Final Solution is: \n",
      "[[1. 5. 4. 7. 8. 3. 2. 9. 6.]\n",
      " [3. 8. 6. 2. 9. 1. 7. 4. 5.]\n",
      " [2. 9. 7. 4. 5. 6. 3. 1. 8.]\n",
      " [7. 2. 8. 3. 1. 4. 5. 6. 9.]\n",
      " [4. 3. 5. 6. 2. 9. 1. 8. 7.]\n",
      " [6. 1. 9. 5. 7. 8. 4. 2. 3.]\n",
      " [8. 7. 2. 1. 6. 5. 9. 3. 4.]\n",
      " [9. 4. 1. 8. 3. 7. 6. 5. 2.]\n",
      " [5. 6. 3. 9. 4. 2. 8. 7. 1.]]\n"
     ]
    }
   ],
   "source": [
    "c=trial_or_error(X)\n",
    "print(c)"
   ]
  },
  {
   "cell_type": "code",
   "execution_count": 64,
   "metadata": {},
   "outputs": [],
   "source": [
    "def reconsile (m):\n",
    "    r=m.copy()\n",
    "    k=r[-1]\n",
    "    r=r[:-1]\n",
    "    puzzle_before_last_error=np.array(k[-1])\n",
    "    wrong_entry= k[0]\n",
    "    entry_row=k[1]\n",
    "    entry_column= k[2]\n",
    "    possible_entries_on_last_error= k[3]\n",
    "    p_e=[i for i in possible_entries_on_last_error if i != wrong_entry]\n",
    "    print(p_e,k,r)\n",
    "    record=r.copy()\n",
    "    i=1\n",
    "    print(i)\n",
    "    \n",
    "    if len(p_e)==1:\n",
    "        print('entered if')\n",
    "        Z=list(puzzle_before_last_error.copy())\n",
    "        fam=update(p_e[0], entry_row, entry_column,puzzle_before_last_error)\n",
    "        print(puzzle_before_last_error)\n",
    "        fill_and_more=rec_sol(fam)\n",
    "        record.append([p_e[0], entry_row, entry_column,p_e,Z])\n",
    "        b=np.isnan(fill_and_more).sum()\n",
    "        a= (np.array([[len(possible_entries(i,j,fill_and_more)) for j in range(9)] for i in range(9)])==0).sum()\n",
    "        if b==0:\n",
    "            print('solution found')\n",
    "            return fill_and_more\n",
    "        elif a==81:\n",
    "            i+=1\n",
    "            print ('going back one step')\n",
    "            return reconsile(r)\n",
    "        else:\n",
    "            print ('Another branch')\n",
    "            return trial_or_error(fill_and_more, record)\n",
    "    else:\n",
    "        print('entered else')\n",
    "        Z=list(puzzle_before_last_error.copy())\n",
    "        fam=update(p_e[0], entry_row, entry_column,puzzle_before_last_error)\n",
    "        fill_and_more=rec_sol(fam)\n",
    "        b=np.isnan(fill_and_more).sum()\n",
    "        a= (np.array([[len(possible_entries(i,j,fill_and_more)) for j in range(9)] for i in range(9)])==0).sum()\n",
    "        record.append([p_e[0], entry_row, entry_column,p_e,Z])\n",
    "        if b==0:\n",
    "            print('solution found')\n",
    "            return fill_and_more\n",
    "        elif a==81:\n",
    "            i+=1\n",
    "            print('going back a step')\n",
    "            return reconsile(r)\n",
    "        else:\n",
    "            print('Another branch')\n",
    "            return trial_or_error(fill_and_more,record)\n",
    "\n",
    "        \n",
    "    "
   ]
  },
  {
   "cell_type": "code",
   "execution_count": 65,
   "metadata": {},
   "outputs": [
    {
     "name": "stdout",
     "output_type": "stream",
     "text": [
      "[9] [8, 0, 4, [8, 9], [array([ 2., nan, nan,  7., nan, nan,  5.,  6.,  4.]), array([ 4., nan, nan, nan, nan, nan,  7.,  2., nan]), array([7., 6., 5., 2., 4., 1., 9., 8., 3.]), array([nan,  2.,  4., nan, nan,  7.,  8.,  3.,  6.]), array([ 3., nan,  6., nan, nan, nan,  4.,  7.,  1.]), array([ 1.,  8.,  7., nan,  3., nan,  2.,  9.,  5.]), array([nan, nan,  3., nan, nan, nan,  6.,  4.,  9.]), array([ 6.,  4.,  2.,  9.,  7.,  5.,  3., nan,  8.]), array([nan,  7., nan, nan,  6., nan,  1.,  5.,  2.])]] [[3, 3, 7, [3, 9], [array([nan, nan, nan,  7., nan, nan,  5.,  6.,  4.]), array([ 4., nan, nan, nan, nan, nan, nan, nan, nan]), array([nan,  6., nan, nan,  4.,  1., nan,  8., nan]), array([nan,  2.,  4., nan, nan, nan, nan, nan,  6.]), array([ 3., nan,  6., nan, nan, nan, nan,  7.,  1.]), array([ 1., nan, nan, nan,  3., nan,  2., nan,  5.]), array([nan, nan,  3., nan, nan, nan, nan, nan,  9.]), array([nan, nan, nan,  9., nan,  5., nan, nan,  8.]), array([nan,  7., nan, nan,  6., nan, nan,  5., nan])]]]\n",
      "1\n",
      "entered if\n",
      "[[ 2. nan nan  7. nan nan  5.  6.  4.]\n",
      " [ 4. nan nan nan nan nan  7.  2. nan]\n",
      " [ 7.  6.  5.  2.  4.  1.  9.  8.  3.]\n",
      " [nan  2.  4. nan nan  7.  8.  3.  6.]\n",
      " [ 3. nan  6. nan nan nan  4.  7.  1.]\n",
      " [ 1.  8.  7. nan  3. nan  2.  9.  5.]\n",
      " [nan nan  3. nan nan nan  6.  4.  9.]\n",
      " [ 6.  4.  2.  9.  7.  5.  3. nan  8.]\n",
      " [nan  7. nan nan  6. nan  1.  5.  2.]]\n",
      "1 iteration done\n",
      "iteration 1 done. Remaining missing values: 22 \n",
      "iteration 2 done. Remaining missing values: 16 \n",
      "iteration 3 done. Remaining missing values: 6 \n",
      "iteration 4 done. Remaining missing values: 5 \n",
      "iteration 5 done. Remaining missing values: 5 \n",
      "after 1 sets of recurrsion missing value left: 5\n",
      "1 iteration done\n",
      "iteration 1 done. Remaining missing values: 5 \n",
      "after 2 sets of recurrsion missing value left: 5\n",
      "going back one step\n",
      "[9] [3, 3, 7, [3, 9], [array([nan, nan, nan,  7., nan, nan,  5.,  6.,  4.]), array([ 4., nan, nan, nan, nan, nan, nan, nan, nan]), array([nan,  6., nan, nan,  4.,  1., nan,  8., nan]), array([nan,  2.,  4., nan, nan, nan, nan, nan,  6.]), array([ 3., nan,  6., nan, nan, nan, nan,  7.,  1.]), array([ 1., nan, nan, nan,  3., nan,  2., nan,  5.]), array([nan, nan,  3., nan, nan, nan, nan, nan,  9.]), array([nan, nan, nan,  9., nan,  5., nan, nan,  8.]), array([nan,  7., nan, nan,  6., nan, nan,  5., nan])]] []\n",
      "1\n",
      "entered if\n",
      "[[nan nan nan  7. nan nan  5.  6.  4.]\n",
      " [ 4. nan nan nan nan nan nan nan nan]\n",
      " [nan  6. nan nan  4.  1. nan  8. nan]\n",
      " [nan  2.  4. nan nan nan nan nan  6.]\n",
      " [ 3. nan  6. nan nan nan nan  7.  1.]\n",
      " [ 1. nan nan nan  3. nan  2. nan  5.]\n",
      " [nan nan  3. nan nan nan nan nan  9.]\n",
      " [nan nan nan  9. nan  5. nan nan  8.]\n",
      " [nan  7. nan nan  6. nan nan  5. nan]]\n",
      "4 put in row: 5, column: 7\n",
      "1 iteration done\n",
      "8 put in row: 4, column: 6\n",
      "2 iteration done\n",
      "3 put in row: 3, column: 6\n",
      "3 iteration done\n",
      "4 iteration done\n",
      "iteration 1 done. Remaining missing values: 48 \n",
      "iteration 2 done. Remaining missing values: 48 \n",
      "after 1 sets of recurrsion missing value left: 48\n",
      "2 put in row: 8, column: 8\n",
      "1 iteration done\n",
      "1 put in row: 6, column: 7\n",
      "2 iteration done\n",
      "2 put in row: 1, column: 7\n",
      "4 put in row: 8, column: 6\n",
      "3 iteration done\n",
      "4 iteration done\n",
      "iteration 1 done. Remaining missing values: 41 \n",
      "iteration 2 done. Remaining missing values: 35 \n",
      "iteration 3 done. Remaining missing values: 30 \n",
      "iteration 4 done. Remaining missing values: 27 \n",
      "iteration 5 done. Remaining missing values: 26 \n",
      "iteration 6 done. Remaining missing values: 26 \n",
      "after 2 sets of recurrsion missing value left: 26\n",
      "7 put in row: 3, column: 5\n",
      "1 iteration done\n",
      "2 iteration done\n",
      "iteration 1 done. Remaining missing values: 18 \n",
      "iteration 2 done. Remaining missing values: 13 \n",
      "iteration 3 done. Remaining missing values: 0 \n",
      "iteration 4 done. Remaining missing values: 0 \n",
      "after 3 sets of recurrsion missing value left: 0\n",
      "1 iteration done\n",
      "iteration 1 done. Remaining missing values: 0 \n",
      "after 4 sets of recurrsion missing value left: 0\n",
      "solution found\n"
     ]
    },
    {
     "data": {
      "text/plain": [
       "array([[2., 1., 8., 7., 9., 3., 5., 6., 4.],\n",
       "       [4., 3., 9., 8., 5., 6., 1., 2., 7.],\n",
       "       [7., 6., 5., 2., 4., 1., 9., 8., 3.],\n",
       "       [5., 2., 4., 1., 8., 7., 3., 9., 6.],\n",
       "       [3., 9., 6., 5., 2., 4., 8., 7., 1.],\n",
       "       [1., 8., 7., 6., 3., 9., 2., 4., 5.],\n",
       "       [8., 5., 3., 4., 7., 2., 6., 1., 9.],\n",
       "       [6., 4., 2., 9., 1., 5., 7., 3., 8.],\n",
       "       [9., 7., 1., 3., 6., 8., 4., 5., 2.]])"
      ]
     },
     "execution_count": 65,
     "metadata": {},
     "output_type": "execute_result"
    }
   ],
   "source": [
    "reconsile(c)"
   ]
  },
  {
   "cell_type": "code",
   "execution_count": null,
   "metadata": {},
   "outputs": [],
   "source": []
  },
  {
   "cell_type": "code",
   "execution_count": null,
   "metadata": {},
   "outputs": [],
   "source": []
  },
  {
   "cell_type": "code",
   "execution_count": null,
   "metadata": {},
   "outputs": [],
   "source": []
  },
  {
   "cell_type": "code",
   "execution_count": null,
   "metadata": {},
   "outputs": [],
   "source": []
  },
  {
   "cell_type": "code",
   "execution_count": null,
   "metadata": {},
   "outputs": [],
   "source": []
  },
  {
   "cell_type": "code",
   "execution_count": null,
   "metadata": {},
   "outputs": [],
   "source": []
  },
  {
   "cell_type": "code",
   "execution_count": null,
   "metadata": {},
   "outputs": [],
   "source": []
  },
  {
   "cell_type": "code",
   "execution_count": 76,
   "metadata": {},
   "outputs": [
    {
     "data": {
      "text/plain": [
       "array([[nan, nan, nan, nan, nan, nan,  2., nan, nan],\n",
       "       [nan, nan, nan,  2., nan, nan, nan, nan, nan],\n",
       "       [nan, nan, nan, nan, nan, nan, nan, nan, nan],\n",
       "       [nan, nan, nan, nan, nan, nan, nan, nan, nan],\n",
       "       [nan, nan, nan, nan, nan, nan, nan, nan,  7.],\n",
       "       [ 6., nan,  9., nan, nan, nan, nan, nan,  3.],\n",
       "       [nan,  7., nan,  1., nan, nan, nan, nan, nan],\n",
       "       [nan,  4., nan, nan, nan, nan, nan, nan, nan],\n",
       "       [nan, nan, nan, nan, nan, nan, nan, nan,  1.]])"
      ]
     },
     "execution_count": 76,
     "metadata": {},
     "output_type": "execute_result"
    }
   ],
   "source": [
    "import random\n",
    "X=np.array([[np.nan]*9]*9)\n",
    "for k in range(10):\n",
    "    X[random.randint(0,8)][random.randint(0,8)]=random.randint(1,9)\n",
    "X"
   ]
  },
  {
   "cell_type": "code",
   "execution_count": null,
   "metadata": {},
   "outputs": [],
   "source": []
  },
  {
   "cell_type": "code",
   "execution_count": null,
   "metadata": {},
   "outputs": [],
   "source": []
  },
  {
   "cell_type": "code",
   "execution_count": 70,
   "metadata": {},
   "outputs": [],
   "source": [
    "extreme=np.array([[np.nan,7,np.nan,np.nan,np.nan,4,np.nan,np.nan,np.nan],[np.nan,np.nan,8,np.nan,np.nan,3,2,np.nan,5],[5,np.nan,np.nan,6,np.nan,np.nan,np.nan,np.nan,np.nan],\n",
    "                  [np.nan,2,np.nan,np.nan,np.nan,1,np.nan,np.nan,np.nan],[np.nan,8,3,np.nan,np.nan,2,1,9,np.nan],[6,np.nan,np.nan,np.nan,np.nan,np.nan,5,2,np.nan],\n",
    "                  [np.nan,np.nan,np.nan,1,4,np.nan,np.nan,np.nan,8],[np.nan,np.nan,np.nan,np.nan,np.nan,np.nan,np.nan,np.nan,2],[9,np.nan,np.nan,np.nan,np.nan,np.nan,6,3,1]\n",
    "                 ])"
   ]
  },
  {
   "cell_type": "code",
   "execution_count": 71,
   "metadata": {},
   "outputs": [
    {
     "name": "stdout",
     "output_type": "stream",
     "text": [
      "1 iteration done\n",
      "iteration 1 done. Remaining missing values: 54 \n",
      "iteration 2 done. Remaining missing values: 54 \n",
      "after 1 sets of recurrsion missing value left: 54\n",
      "1 iteration done\n",
      "iteration 1 done. Remaining missing values: 54 \n",
      "after 2 sets of recurrsion missing value left: 54\n"
     ]
    }
   ],
   "source": [
    "X=rec_sol(extreme)"
   ]
  },
  {
   "cell_type": "code",
   "execution_count": 72,
   "metadata": {},
   "outputs": [
    {
     "data": {
      "text/plain": [
       "array([[nan,  7., nan, nan, nan,  4., nan, nan, nan],\n",
       "       [nan, nan,  8., nan, nan,  3.,  2., nan,  5.],\n",
       "       [ 5., nan, nan,  6., nan, nan, nan, nan, nan],\n",
       "       [nan,  2., nan, nan, nan,  1., nan, nan, nan],\n",
       "       [nan,  8.,  3., nan, nan,  2.,  1.,  9., nan],\n",
       "       [ 6., nan, nan, nan, nan, nan,  5.,  2., nan],\n",
       "       [nan, nan, nan,  1.,  4., nan, nan, nan,  8.],\n",
       "       [ 8., nan, nan, nan, nan, nan, nan, nan,  2.],\n",
       "       [ 9., nan, nan, nan, nan, nan,  6.,  3.,  1.]])"
      ]
     },
     "execution_count": 72,
     "metadata": {},
     "output_type": "execute_result"
    }
   ],
   "source": [
    "X"
   ]
  },
  {
   "cell_type": "code",
   "execution_count": null,
   "metadata": {},
   "outputs": [],
   "source": []
  },
  {
   "cell_type": "code",
   "execution_count": 5,
   "metadata": {},
   "outputs": [
    {
     "data": {
      "text/plain": [
       "True"
      ]
     },
     "execution_count": 5,
     "metadata": {},
     "output_type": "execute_result"
    }
   ],
   "source": [
    "X.shape==(9,9)"
   ]
  },
  {
   "cell_type": "code",
   "execution_count": 3,
   "metadata": {},
   "outputs": [],
   "source": [
    "X=np.array([[9,2,np.nan,6,1,np.nan,np.nan,np.nan,np.nan],[4,6,np.nan,np.nan,np.nan,3,np.nan,np.nan,np.nan],[np.nan,1,np.nan,7,np.nan,np.nan,9,np.nan,6],\n",
    "  [np.nan,5,np.nan,np.nan,7,8,2,np.nan,np.nan],[6,7,2,np.nan,np.nan,np.nan,5,8,np.nan],[np.nan,np.nan,np.nan,2,np.nan,6,np.nan,np.nan,3],\n",
    "   [np.nan,9,6,3,2,np.nan,np.nan,1,4],[7,np.nan,np.nan,np.nan,np.nan,np.nan,6,np.nan,np.nan],[np.nan,np.nan,1,np.nan,6,4,np.nan,9,np.nan]\n",
    "  ])"
   ]
  },
  {
   "cell_type": "code",
   "execution_count": null,
   "metadata": {},
   "outputs": [],
   "source": [
    "solution(X)"
   ]
  },
  {
   "cell_type": "code",
   "execution_count": null,
   "metadata": {},
   "outputs": [],
   "source": [
    "X1=np.array([[np.nan,np.nan,np.nan,9,np.nan,7,np.nan,3,np.nan],[np.nan,np.nan,8,4,np.nan,3,np.nan,np.nan,np.nan],[np.nan,np.nan,7,np.nan,2,np.nan,np.nan,5,4],\n",
    "  [9,7,np.nan,3,4,1,5,8,np.nan],[5,8,np.nan,7,np.nan,6,np.nan,np.nan,2],[6,3,np.nan,2,8,5,np.nan,9,1],\n",
    "   [np.nan,1,5,np.nan,np.nan,np.nan,np.nan,np.nan,np.nan],[np.nan,np.nan,np.nan,6,np.nan,np.nan,np.nan,2,np.nan],[np.nan,np.nan,np.nan,5,7,np.nan,np.nan,np.nan,np.nan]\n",
    "  ])"
   ]
  },
  {
   "cell_type": "code",
   "execution_count": null,
   "metadata": {},
   "outputs": [],
   "source": [
    "solution(X1)"
   ]
  },
  {
   "cell_type": "code",
   "execution_count": 66,
   "metadata": {},
   "outputs": [],
   "source": [
    "extreme=np.array([[4,np.nan,np.nan,np.nan,np.nan,np.nan,np.nan,1,np.nan],[np.nan,np.nan,np.nan,4,np.nan,2,3,np.nan,np.nan],[8,3,6,np.nan,1,np.nan,np.nan,np.nan,np.nan],\n",
    "                  [2,np.nan,np.nan,np.nan,6,np.nan,np.nan,5,7],[np.nan,9,np.nan,5,np.nan,np.nan,6,np.nan,1],[np.nan,np.nan,7,1,np.nan,np.nan,np.nan,np.nan,np.nan],\n",
    "                  [np.nan,np.nan,np.nan,np.nan,8,6,np.nan,np.nan,3],[7,np.nan,np.nan,np.nan,np.nan,np.nan,np.nan,np.nan,np.nan],[6,4,np.nan,np.nan,7,np.nan,np.nan,np.nan,2]\n",
    "                 ])"
   ]
  },
  {
   "cell_type": "code",
   "execution_count": null,
   "metadata": {},
   "outputs": [],
   "source": [
    "solution(extreme)"
   ]
  },
  {
   "cell_type": "code",
   "execution_count": 9,
   "metadata": {},
   "outputs": [],
   "source": [
    "hard=np.array([\n",
    "    [np.nan,np.nan,np.nan,7,np.nan,np.nan,5,6,np.nan],[4,np.nan,np.nan,np.nan,np.nan,np.nan,np.nan,np.nan,np.nan],[np.nan,6,np.nan,np.nan,4,1,np.nan,8,np.nan],\n",
    "    [np.nan,2,4,np.nan,np.nan,np.nan,np.nan,np.nan,np.nan],[3,np.nan,6,np.nan,np.nan,np.nan,np.nan,7,np.nan],[1,np.nan,np.nan,np.nan,3,np.nan,2,np.nan,5],\n",
    "    [np.nan,np.nan,3,np.nan,np.nan,np.nan,np.nan,np.nan,9],[np.nan,np.nan,np.nan,9,np.nan,5,np.nan,np.nan,8],[np.nan,7,np.nan,np.nan,6,np.nan,np.nan,5,np.nan]\n",
    "    \n",
    "])"
   ]
  },
  {
   "cell_type": "code",
   "execution_count": null,
   "metadata": {},
   "outputs": [],
   "source": [
    "solution(hard)"
   ]
  },
  {
   "cell_type": "code",
   "execution_count": null,
   "metadata": {},
   "outputs": [],
   "source": [
    "medium=np.array([\n",
    "    [np.nan,6,np.nan,4,np.nan,np.nan,np.nan,9,2],[np.nan,2,5,np.nan,np.nan,np.nan,4,np.nan,np.nan],[7,4,np.nan,2,3,9,np.nan,np.nan,np.nan],\n",
    "    [5,9,6,np.nan,2,np.nan,np.nan,np.nan,1],[4,np.nan,np.nan,np.nan,np.nan,5,np.nan,7,np.nan],[2,8,7,np.nan,4,np.nan,np.nan,np.nan,np.nan],\n",
    "    [np.nan,7,np.nan,8,np.nan,2,np.nan,1,5],[8,np.nan,np.nan,5,np.nan,7,3,np.nan,np.nan],[np.nan,5,np.nan,np.nan,np.nan,4,np.nan,np.nan,np.nan]\n",
    "])"
   ]
  },
  {
   "cell_type": "code",
   "execution_count": null,
   "metadata": {},
   "outputs": [],
   "source": [
    "solution(medium)"
   ]
  },
  {
   "cell_type": "code",
   "execution_count": null,
   "metadata": {},
   "outputs": [],
   "source": [
    "X=np.array([[9,2,np.nan,6,1,np.nan,np.nan,np.nan,np.nan],[4,6,np.nan,np.nan,np.nan,3,np.nan,np.nan,np.nan],[np.nan,1,np.nan,7,np.nan,np.nan,9,np.nan,6],\n",
    "  [np.nan,5,np.nan,np.nan,7,8,2,np.nan,np.nan],[6,7,2,np.nan,np.nan,np.nan,5,8,np.nan],[np.nan,np.nan,np.nan,2,np.nan,6,np.nan,np.nan,3],\n",
    "   [np.nan,9,6,3,2,np.nan,np.nan,1,4],[7,np.nan,np.nan,np.nan,np.nan,np.nan,6,np.nan,np.nan],[np.nan,np.nan,1,np.nan,6,4,np.nan,9,np.nan]\n",
    "  ])"
   ]
  },
  {
   "cell_type": "code",
   "execution_count": null,
   "metadata": {},
   "outputs": [],
   "source": [
    "solution(X)"
   ]
  },
  {
   "cell_type": "code",
   "execution_count": null,
   "metadata": {},
   "outputs": [],
   "source": []
  },
  {
   "cell_type": "code",
   "execution_count": null,
   "metadata": {},
   "outputs": [],
   "source": []
  }
 ],
 "metadata": {
  "kernelspec": {
   "display_name": "Python 3",
   "language": "python",
   "name": "python3"
  },
  "language_info": {
   "codemirror_mode": {
    "name": "ipython",
    "version": 3
   },
   "file_extension": ".py",
   "mimetype": "text/x-python",
   "name": "python",
   "nbconvert_exporter": "python",
   "pygments_lexer": "ipython3",
   "version": "3.7.3"
  }
 },
 "nbformat": 4,
 "nbformat_minor": 2
}
